{
 "cells": [
  {
   "cell_type": "markdown",
   "metadata": {},
   "source": [
    "# Extracting data from TOI API\n",
    "1. Create an API key for Times Of India API.\n",
    "2. Use that API to create queries.\n",
    "3. Fetch the recent articles published about \"business analytics\" from all sources.\n",
    "4. For each article extract the following things – [source-id , source-name, author, title, description, content]\n",
    "5. Convert the JSON output to dataframe with each parameter as a column and each article as a row.\n",
    "6. Save the output file in csv format(\"output_api.csv\")."
   ]
  },
  {
   "cell_type": "markdown",
   "metadata": {},
   "source": [
    "# Solution"
   ]
  },
  {
   "cell_type": "markdown",
   "metadata": {},
   "source": [
    "### Step1\n",
    "#### Secure the API Key\n",
    "* Visit the [site](https://newsapi.org/s/the-times-of-india-api) to secure the API Key\n",
    ">![NOTE] You will have to create an account to secure the API Key"
   ]
  },
  {
   "cell_type": "markdown",
   "metadata": {},
   "source": [
    "### Step2 \n",
    "#### Install the required packages\n",
    "* Open Anaconda command prompt in administrator mode and execute the following script `pip install requests` and `pip install newsapi-python`"
   ]
  },
  {
   "cell_type": "markdown",
   "metadata": {},
   "source": [
    "### Step 3\n",
    "#### Import the required packages\n",
    "* Import the recently installed `requests`, `newsapi` package along with `json`\n",
    "* These packages make it easier to work with the JSON data format and the HTTP protocol"
   ]
  },
  {
   "cell_type": "code",
   "execution_count": 2,
   "metadata": {},
   "outputs": [],
   "source": [
    "import json as js\n",
    "import requests as rq\n",
    "import pandas as pd\n",
    "from newsapi import NewsApiClient\n",
    "from pandas.io.json import json_normalize"
   ]
  },
  {
   "cell_type": "markdown",
   "metadata": {},
   "source": [
    "### Step 4\n",
    "#### Define common variables\n",
    "* In this example we are using the client library provided by newsapi to form and execute the **HTTP** request.\n",
    "* From the JSON object received, we parse individual elements and poplutae a list\n",
    "* The list is then converted to data frame \n",
    "* Finally the data frame is written back to the csv file"
   ]
  },
  {
   "cell_type": "code",
   "execution_count": 4,
   "metadata": {},
   "outputs": [],
   "source": [
    "try:\n",
    "    listData = []\n",
    "    file_name = 'output_api.csv'\n",
    "    # Init\n",
    "    newsapi = NewsApiClient(api_key='your api key') #replace this with your API key\n",
    "\n",
    "    # /v2/business analytics in timees of india\n",
    "    all_articles  = newsapi.get_everything(q='business analytics',\n",
    "                                          sources='the-times-of-india',\n",
    "                                          domains='timesofindia.indiatimes.com',\n",
    "                                          language='en',\n",
    "                                          sort_by='publishedAt')\n",
    "\n",
    "    for article in all_articles[\"articles\"]:\n",
    "        source = article[\"source\"]\n",
    "        try:\n",
    "            sourceId = source[\"id\"]\n",
    "        except:\n",
    "            sourceId = \"\"\n",
    "        try:\n",
    "            sourceName = source[\"name\"] \n",
    "        except:\n",
    "            sourceName = \"\"\n",
    "        try:\n",
    "            author = article[\"author\"] \n",
    "        except:\n",
    "            author = \"\" \n",
    "        try:\n",
    "            title = article[\"title\"] \n",
    "        except:\n",
    "            title = \"\"\n",
    "        try:\n",
    "            description = article[\"description\"] \n",
    "        except:\n",
    "            description = \"\"\n",
    "        try:\n",
    "            content = article[\"content\"] \n",
    "        except:\n",
    "            contect = \"\"\n",
    "        \n",
    "        listData.append((sourceId, sourceName, author, title, description, content))\n",
    "\n",
    "    cols=['sourceId','sourceName','author','title','description','content']\n",
    "    articleData = pd.DataFrame(listData, columns=cols)\n",
    "    articleData.to_csv(file_name, sep=',', encoding='utf-8')\n",
    "\n",
    "except Exception as e:\n",
    "    print(e)"
   ]
  },
  {
   "cell_type": "markdown",
   "metadata": {},
   "source": [
    "### Step 5\n",
    "#### Validate the file is created with relevant records\n",
    "* Read the recently created csv file and insert into a data frame\n",
    "* Read the top few records from the data frame"
   ]
  },
  {
   "cell_type": "code",
   "execution_count": null,
   "metadata": {},
   "outputs": [],
   "source": [
    "data = pd.read_csv('output_api.csv', sep=',', encoding='utf-8') \n",
    "data.head()"
   ]
  }
 ],
 "metadata": {
  "kernelspec": {
   "display_name": "Python 3",
   "language": "python",
   "name": "python3"
  },
  "language_info": {
   "codemirror_mode": {
    "name": "ipython",
    "version": 3
   },
   "file_extension": ".py",
   "mimetype": "text/x-python",
   "name": "python",
   "nbconvert_exporter": "python",
   "pygments_lexer": "ipython3",
   "version": "3.6.5"
  }
 },
 "nbformat": 4,
 "nbformat_minor": 2
}
